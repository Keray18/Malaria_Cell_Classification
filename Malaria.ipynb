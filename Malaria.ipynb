{
  "nbformat": 4,
  "nbformat_minor": 0,
  "metadata": {
    "colab": {
      "provenance": [],
      "gpuType": "T4"
    },
    "kernelspec": {
      "name": "python3",
      "display_name": "Python 3"
    },
    "language_info": {
      "name": "python"
    },
    "accelerator": "GPU"
  },
  "cells": [
    {
      "cell_type": "markdown",
      "source": [
        "## Malaria Cell Classification\n",
        "The dataset contains a total of 27,558 cell images with equal instances of parasitized and uninfected cells. For more info: https://lhncbc.nlm.nih.gov/LHC-downloads/downloads.html#malaria-datasets\n",
        "\n",
        "The dataset contains 2 folders\n",
        "\n",
        "* Parasitized (Infected)\n",
        "* Uninfected"
      ],
      "metadata": {
        "id": "0UApC8pbqbyw"
      }
    },
    {
      "cell_type": "code",
      "source": [
        "from google.colab import files\n",
        "\n",
        "uploaded = files.upload()"
      ],
      "metadata": {
        "colab": {
          "base_uri": "https://localhost:8080/",
          "height": 73
        },
        "id": "v-SkVNDjqDgn",
        "outputId": "fc5737e8-971a-49fd-afc2-09168cc491a8"
      },
      "execution_count": 1,
      "outputs": [
        {
          "output_type": "display_data",
          "data": {
            "text/plain": [
              "<IPython.core.display.HTML object>"
            ],
            "text/html": [
              "\n",
              "     <input type=\"file\" id=\"files-a8a32f89-4117-4c3f-b453-9c9d61be949f\" name=\"files[]\" multiple disabled\n",
              "        style=\"border:none\" />\n",
              "     <output id=\"result-a8a32f89-4117-4c3f-b453-9c9d61be949f\">\n",
              "      Upload widget is only available when the cell has been executed in the\n",
              "      current browser session. Please rerun this cell to enable.\n",
              "      </output>\n",
              "      <script>// Copyright 2017 Google LLC\n",
              "//\n",
              "// Licensed under the Apache License, Version 2.0 (the \"License\");\n",
              "// you may not use this file except in compliance with the License.\n",
              "// You may obtain a copy of the License at\n",
              "//\n",
              "//      http://www.apache.org/licenses/LICENSE-2.0\n",
              "//\n",
              "// Unless required by applicable law or agreed to in writing, software\n",
              "// distributed under the License is distributed on an \"AS IS\" BASIS,\n",
              "// WITHOUT WARRANTIES OR CONDITIONS OF ANY KIND, either express or implied.\n",
              "// See the License for the specific language governing permissions and\n",
              "// limitations under the License.\n",
              "\n",
              "/**\n",
              " * @fileoverview Helpers for google.colab Python module.\n",
              " */\n",
              "(function(scope) {\n",
              "function span(text, styleAttributes = {}) {\n",
              "  const element = document.createElement('span');\n",
              "  element.textContent = text;\n",
              "  for (const key of Object.keys(styleAttributes)) {\n",
              "    element.style[key] = styleAttributes[key];\n",
              "  }\n",
              "  return element;\n",
              "}\n",
              "\n",
              "// Max number of bytes which will be uploaded at a time.\n",
              "const MAX_PAYLOAD_SIZE = 100 * 1024;\n",
              "\n",
              "function _uploadFiles(inputId, outputId) {\n",
              "  const steps = uploadFilesStep(inputId, outputId);\n",
              "  const outputElement = document.getElementById(outputId);\n",
              "  // Cache steps on the outputElement to make it available for the next call\n",
              "  // to uploadFilesContinue from Python.\n",
              "  outputElement.steps = steps;\n",
              "\n",
              "  return _uploadFilesContinue(outputId);\n",
              "}\n",
              "\n",
              "// This is roughly an async generator (not supported in the browser yet),\n",
              "// where there are multiple asynchronous steps and the Python side is going\n",
              "// to poll for completion of each step.\n",
              "// This uses a Promise to block the python side on completion of each step,\n",
              "// then passes the result of the previous step as the input to the next step.\n",
              "function _uploadFilesContinue(outputId) {\n",
              "  const outputElement = document.getElementById(outputId);\n",
              "  const steps = outputElement.steps;\n",
              "\n",
              "  const next = steps.next(outputElement.lastPromiseValue);\n",
              "  return Promise.resolve(next.value.promise).then((value) => {\n",
              "    // Cache the last promise value to make it available to the next\n",
              "    // step of the generator.\n",
              "    outputElement.lastPromiseValue = value;\n",
              "    return next.value.response;\n",
              "  });\n",
              "}\n",
              "\n",
              "/**\n",
              " * Generator function which is called between each async step of the upload\n",
              " * process.\n",
              " * @param {string} inputId Element ID of the input file picker element.\n",
              " * @param {string} outputId Element ID of the output display.\n",
              " * @return {!Iterable<!Object>} Iterable of next steps.\n",
              " */\n",
              "function* uploadFilesStep(inputId, outputId) {\n",
              "  const inputElement = document.getElementById(inputId);\n",
              "  inputElement.disabled = false;\n",
              "\n",
              "  const outputElement = document.getElementById(outputId);\n",
              "  outputElement.innerHTML = '';\n",
              "\n",
              "  const pickedPromise = new Promise((resolve) => {\n",
              "    inputElement.addEventListener('change', (e) => {\n",
              "      resolve(e.target.files);\n",
              "    });\n",
              "  });\n",
              "\n",
              "  const cancel = document.createElement('button');\n",
              "  inputElement.parentElement.appendChild(cancel);\n",
              "  cancel.textContent = 'Cancel upload';\n",
              "  const cancelPromise = new Promise((resolve) => {\n",
              "    cancel.onclick = () => {\n",
              "      resolve(null);\n",
              "    };\n",
              "  });\n",
              "\n",
              "  // Wait for the user to pick the files.\n",
              "  const files = yield {\n",
              "    promise: Promise.race([pickedPromise, cancelPromise]),\n",
              "    response: {\n",
              "      action: 'starting',\n",
              "    }\n",
              "  };\n",
              "\n",
              "  cancel.remove();\n",
              "\n",
              "  // Disable the input element since further picks are not allowed.\n",
              "  inputElement.disabled = true;\n",
              "\n",
              "  if (!files) {\n",
              "    return {\n",
              "      response: {\n",
              "        action: 'complete',\n",
              "      }\n",
              "    };\n",
              "  }\n",
              "\n",
              "  for (const file of files) {\n",
              "    const li = document.createElement('li');\n",
              "    li.append(span(file.name, {fontWeight: 'bold'}));\n",
              "    li.append(span(\n",
              "        `(${file.type || 'n/a'}) - ${file.size} bytes, ` +\n",
              "        `last modified: ${\n",
              "            file.lastModifiedDate ? file.lastModifiedDate.toLocaleDateString() :\n",
              "                                    'n/a'} - `));\n",
              "    const percent = span('0% done');\n",
              "    li.appendChild(percent);\n",
              "\n",
              "    outputElement.appendChild(li);\n",
              "\n",
              "    const fileDataPromise = new Promise((resolve) => {\n",
              "      const reader = new FileReader();\n",
              "      reader.onload = (e) => {\n",
              "        resolve(e.target.result);\n",
              "      };\n",
              "      reader.readAsArrayBuffer(file);\n",
              "    });\n",
              "    // Wait for the data to be ready.\n",
              "    let fileData = yield {\n",
              "      promise: fileDataPromise,\n",
              "      response: {\n",
              "        action: 'continue',\n",
              "      }\n",
              "    };\n",
              "\n",
              "    // Use a chunked sending to avoid message size limits. See b/62115660.\n",
              "    let position = 0;\n",
              "    do {\n",
              "      const length = Math.min(fileData.byteLength - position, MAX_PAYLOAD_SIZE);\n",
              "      const chunk = new Uint8Array(fileData, position, length);\n",
              "      position += length;\n",
              "\n",
              "      const base64 = btoa(String.fromCharCode.apply(null, chunk));\n",
              "      yield {\n",
              "        response: {\n",
              "          action: 'append',\n",
              "          file: file.name,\n",
              "          data: base64,\n",
              "        },\n",
              "      };\n",
              "\n",
              "      let percentDone = fileData.byteLength === 0 ?\n",
              "          100 :\n",
              "          Math.round((position / fileData.byteLength) * 100);\n",
              "      percent.textContent = `${percentDone}% done`;\n",
              "\n",
              "    } while (position < fileData.byteLength);\n",
              "  }\n",
              "\n",
              "  // All done.\n",
              "  yield {\n",
              "    response: {\n",
              "      action: 'complete',\n",
              "    }\n",
              "  };\n",
              "}\n",
              "\n",
              "scope.google = scope.google || {};\n",
              "scope.google.colab = scope.google.colab || {};\n",
              "scope.google.colab._files = {\n",
              "  _uploadFiles,\n",
              "  _uploadFilesContinue,\n",
              "};\n",
              "})(self);\n",
              "</script> "
            ]
          },
          "metadata": {}
        },
        {
          "output_type": "stream",
          "name": "stdout",
          "text": [
            "Saving kaggle.json to kaggle.json\n"
          ]
        }
      ]
    },
    {
      "cell_type": "code",
      "source": [
        "!mkdir ~/.kaggle\n",
        "!mv kaggle.json ~/.kaggle/\n",
        "!chmod 600 ~/.kaggle/kaggle.json"
      ],
      "metadata": {
        "id": "mDp23xExqO3H"
      },
      "execution_count": 2,
      "outputs": []
    },
    {
      "cell_type": "code",
      "source": [
        "!kaggle datasets download -d iarunava/cell-images-for-detecting-malaria"
      ],
      "metadata": {
        "colab": {
          "base_uri": "https://localhost:8080/"
        },
        "id": "nw_3cD9GqRyf",
        "outputId": "b14c5359-1585-45a9-8a99-f8a972a355c2"
      },
      "execution_count": 3,
      "outputs": [
        {
          "output_type": "stream",
          "name": "stdout",
          "text": [
            "Downloading cell-images-for-detecting-malaria.zip to /content\n",
            " 97% 657M/675M [00:04<00:00, 161MB/s]\n",
            "100% 675M/675M [00:04<00:00, 144MB/s]\n"
          ]
        }
      ]
    },
    {
      "cell_type": "code",
      "source": [
        "import zipfile\n",
        "\n",
        "zip_ref = zipfile.ZipFile(\"/content/cell-images-for-detecting-malaria.zip\")\n",
        "zip_ref.extractall()\n",
        "zip_ref.close()"
      ],
      "metadata": {
        "id": "tiXqCtG_qVHH"
      },
      "execution_count": 4,
      "outputs": []
    },
    {
      "cell_type": "code",
      "execution_count": 27,
      "metadata": {
        "id": "A4d8SckRo97l"
      },
      "outputs": [],
      "source": [
        "# Importing important libraries\n",
        "\n",
        "import numpy as np\n",
        "from glob import glob\n",
        "import matplotlib.pyplot as plt\n",
        "\n",
        "from tensorflow.keras.layers import Input, Lambda, Dense, Flatten, Conv2D, MaxPool2D\n",
        "from tensorflow.keras.models import Model\n",
        "from tensorflow.keras.applications.vgg19 import VGG19\n",
        "from tensorflow.keras.applications.resnet50 import preprocess_input\n",
        "from tensorflow.keras.preprocessing import image\n",
        "from tensorflow.keras.preprocessing.image import ImageDataGenerator, load_img\n",
        "from tensorflow.keras.models import Sequential"
      ]
    },
    {
      "cell_type": "code",
      "source": [
        "import tensorflow as tf\n",
        "print(tf.__version__)"
      ],
      "metadata": {
        "colab": {
          "base_uri": "https://localhost:8080/"
        },
        "id": "79B6eS6pp_TP",
        "outputId": "625700d4-ee4d-4c3a-b226-80c667d3fc2b"
      },
      "execution_count": 6,
      "outputs": [
        {
          "output_type": "stream",
          "name": "stdout",
          "text": [
            "2.12.0\n"
          ]
        }
      ]
    },
    {
      "cell_type": "markdown",
      "source": [
        "## Preprocessing the data"
      ],
      "metadata": {
        "id": "zdl1Kp7X6yLq"
      }
    },
    {
      "cell_type": "code",
      "source": [
        "para = !ls /content/cell_images/Parasitized\n",
        "uninfected = !ls /content/cell_images/Uninfected\n",
        "\n",
        "len(para), len(uninfected)"
      ],
      "metadata": {
        "id": "Kd_jJMi7wHIR",
        "colab": {
          "base_uri": "https://localhost:8080/"
        },
        "outputId": "fd0da56b-de82-49f2-adfc-b134bb68598e"
      },
      "execution_count": 10,
      "outputs": [
        {
          "output_type": "execute_result",
          "data": {
            "text/plain": [
              "(13780, 13780)"
            ]
          },
          "metadata": {},
          "execution_count": 10
        }
      ]
    },
    {
      "cell_type": "code",
      "source": [
        "# Creating empty folders\n",
        "\n",
        "import os\n",
        "\n",
        "!mkdir data\n",
        "!mkdir data/train\n",
        "!mkdir data/train/Infected\n",
        "!mkdir data/train/Uninfected\n",
        "\n",
        "\n",
        "!mkdir data/test\n",
        "!mkdir data/test/Infected\n",
        "!mkdir data/test/Uninfected\n"
      ],
      "metadata": {
        "id": "JUMaz6NcvCWz"
      },
      "execution_count": 12,
      "outputs": []
    },
    {
      "cell_type": "code",
      "source": [
        "# Creating train and test dataset\n",
        "\n",
        "import shutil\n",
        "\n",
        "path = \"/content/data/\"\n",
        "\n",
        "# Train dataset\n",
        "for filename in os.listdir(\"/content/cell_images/Parasitized\")[0:12780]:\n",
        "    src_path = \"/content/cell_images/Parasitized/\" + filename\n",
        "    dst_path = os.path.join(path, 'train/Infected/')\n",
        "    shutil.move(src_path, dst_path)\n",
        "\n",
        "for filename in os.listdir(\"/content/cell_images/Uninfected\")[0:12780]:\n",
        "    src_path = \"/content/cell_images/Uninfected/\" + filename\n",
        "    dst_path = os.path.join(path, 'train/Uninfected/')\n",
        "    shutil.move(src_path, dst_path)\n",
        "\n",
        "\n",
        "# move rest of the files to the test directory\n",
        "for filename in os.listdir(\"/content/cell_images/Parasitized\"):\n",
        "    src_path = \"/content/cell_images/Parasitized/\" + filename\n",
        "    dst_path = os.path.join(path, 'test/Infected/')\n",
        "    shutil.move(src_path, dst_path)\n",
        "\n",
        "for filename in os.listdir(\"/content/cell_images/Uninfected\"):\n",
        "    src_path = '/content/cell_images/Uninfected/' + filename\n",
        "    dst_path = os.path.join(path, 'test/Uninfected/')\n",
        "    shutil.move(src_path, dst_path)"
      ],
      "metadata": {
        "id": "yt267Vs5ukfk"
      },
      "execution_count": 15,
      "outputs": []
    },
    {
      "cell_type": "code",
      "source": [
        "IMG_SIZE = [224,224]\n",
        "\n",
        "train_dir = \"/content/data/train\"\n",
        "test_dir = \"/content/data/test\"\n"
      ],
      "metadata": {
        "id": "0be7al65r2le"
      },
      "execution_count": 16,
      "outputs": []
    },
    {
      "cell_type": "code",
      "source": [
        "import pathlib\n",
        "\n",
        "data_dir = pathlib.Path(train_dir)\n",
        "\n",
        "class_names = np.array(sorted([item.name for item in data_dir.glob('*')]))\n",
        "\n",
        "class_names, len(class_names)"
      ],
      "metadata": {
        "colab": {
          "base_uri": "https://localhost:8080/"
        },
        "id": "5SgZbQhD3bgc",
        "outputId": "094b1b7d-130e-4001-e820-188fbb09a918"
      },
      "execution_count": 21,
      "outputs": [
        {
          "output_type": "execute_result",
          "data": {
            "text/plain": [
              "(array(['Infected', 'Uninfected'], dtype='<U10'), 2)"
            ]
          },
          "metadata": {},
          "execution_count": 21
        }
      ]
    },
    {
      "cell_type": "code",
      "source": [
        "# Preprocessing and augmenting the images\n",
        "\n",
        "train_datagen = ImageDataGenerator(rescale=1./255,\n",
        "                                   shear_range=0.2,\n",
        "                                   zoom_range=0.2,\n",
        "                                   horizontal_flip=True)\n",
        "\n",
        "test_datagen = ImageDataGenerator(rescale=1./255)\n",
        "\n",
        "\n",
        "train_data = train_datagen.flow_from_directory(train_dir,\n",
        "                                               target_size=(224,224),\n",
        "                                               batch_size=32,\n",
        "                                               class_mode='categorical')\n",
        "\n",
        "test_data = train_datagen.flow_from_directory(test_dir,\n",
        "                                               target_size=(224,224),\n",
        "                                               batch_size=32,\n",
        "                                               class_mode='categorical')"
      ],
      "metadata": {
        "colab": {
          "base_uri": "https://localhost:8080/"
        },
        "id": "zbE2771o5XgD",
        "outputId": "d1b4f951-9179-4251-b66b-9512391816fa"
      },
      "execution_count": 51,
      "outputs": [
        {
          "output_type": "stream",
          "name": "stdout",
          "text": [
            "Found 25559 images belonging to 2 classes.\n",
            "Found 1999 images belonging to 2 classes.\n"
          ]
        }
      ]
    },
    {
      "cell_type": "code",
      "source": [
        "vgg19 = VGG19(input_shape=IMG_SIZE + [3], weights='imagenet', include_top=False)\n",
        "\n",
        "for layer in vgg19.layers:\n",
        "  layer.trainable = False\n",
        "\n",
        "\n",
        "model = Sequential([\n",
        "    vgg19,\n",
        "    Flatten(),\n",
        "    Dense(len(class_names), activation='softmax')\n",
        "])"
      ],
      "metadata": {
        "id": "w-1T6Lft83AY"
      },
      "execution_count": 52,
      "outputs": []
    },
    {
      "cell_type": "code",
      "source": [
        "model.compile(\n",
        "  loss='categorical_crossentropy',\n",
        "  optimizer=tf.keras.optimizers.Adam(),\n",
        "  metrics=['accuracy']\n",
        ")\n",
        "\n",
        "model.summary()"
      ],
      "metadata": {
        "colab": {
          "base_uri": "https://localhost:8080/"
        },
        "id": "9r-N0mA398Kv",
        "outputId": "08aabce7-714f-4714-fe70-5c74f7153991"
      },
      "execution_count": 53,
      "outputs": [
        {
          "output_type": "stream",
          "name": "stdout",
          "text": [
            "Model: \"sequential_5\"\n",
            "_________________________________________________________________\n",
            " Layer (type)                Output Shape              Param #   \n",
            "=================================================================\n",
            " vgg19 (Functional)          (None, 7, 7, 512)         20024384  \n",
            "                                                                 \n",
            " flatten_7 (Flatten)         (None, 25088)             0         \n",
            "                                                                 \n",
            " dense_6 (Dense)             (None, 2)                 50178     \n",
            "                                                                 \n",
            "=================================================================\n",
            "Total params: 20,074,562\n",
            "Trainable params: 50,178\n",
            "Non-trainable params: 20,024,384\n",
            "_________________________________________________________________\n"
          ]
        }
      ]
    },
    {
      "cell_type": "code",
      "source": [
        "history = model.fit(train_data,\n",
        "                    validation_data = test_data,\n",
        "                    epochs=3,\n",
        "                    steps_per_epoch=len(train_data),\n",
        "                    validation_steps=len(test_data)\n",
        "                    )"
      ],
      "metadata": {
        "colab": {
          "base_uri": "https://localhost:8080/"
        },
        "id": "B8poFr3r-dxm",
        "outputId": "89a6eb08-3784-4f69-cac4-4143a92f91db"
      },
      "execution_count": 54,
      "outputs": [
        {
          "output_type": "stream",
          "name": "stdout",
          "text": [
            "Epoch 1/3\n",
            "799/799 [==============================] - 362s 451ms/step - loss: 0.3859 - accuracy: 0.8367 - val_loss: 0.3447 - val_accuracy: 0.8414\n",
            "Epoch 2/3\n",
            "799/799 [==============================] - 375s 469ms/step - loss: 0.2789 - accuracy: 0.8903 - val_loss: 0.2163 - val_accuracy: 0.9165\n",
            "Epoch 3/3\n",
            "799/799 [==============================] - 362s 453ms/step - loss: 0.2538 - accuracy: 0.9023 - val_loss: 0.2328 - val_accuracy: 0.9075\n"
          ]
        }
      ]
    },
    {
      "cell_type": "code",
      "source": [
        "# Function for plotting loss curve\n",
        "\n",
        "def loss_curve(history):\n",
        "\n",
        "  loss = history.history['loss']\n",
        "  val_loss = history.history['val_loss']\n",
        "\n",
        "  accuracy = history.history['accuracy']\n",
        "  val_accuracy = history.history['val_accuracy']\n",
        "\n",
        "  epochs = range(len(history.history['loss']))\n",
        "\n",
        "  # Plot loss\n",
        "  plt.plot(epochs, loss, label=\"Training_Loss\")\n",
        "  plt.plot(epochs, val_loss, label=\"Val_Loss\")\n",
        "  plt.title(\"Loss\")\n",
        "  plt.xlabel(\"Epochs\")\n",
        "  plt.legend()\n",
        "\n",
        "  # Plot accuracy\n",
        "  plt.figure()\n",
        "  plt.plot(epochs, accuracy, label=\"Training_Accuracy1\")\n",
        "  plt.plot(epochs, val_accuracy, label=\"Val_Accuracy\")\n",
        "  plt.title(\"Loss\")\n",
        "  plt.xlabel(\"Epochs\")\n",
        "  plt.legend()"
      ],
      "metadata": {
        "id": "I04IzPIQArCk"
      },
      "execution_count": 55,
      "outputs": []
    },
    {
      "cell_type": "code",
      "source": [
        "loss_curve(history)"
      ],
      "metadata": {
        "colab": {
          "base_uri": "https://localhost:8080/",
          "height": 927
        },
        "id": "0Ezc8rzhD5_6",
        "outputId": "a9d9f6ad-09a5-4a94-a99b-8bb5c28ba8de"
      },
      "execution_count": 56,
      "outputs": [
        {
          "output_type": "display_data",
          "data": {
            "text/plain": [
              "<Figure size 640x480 with 1 Axes>"
            ],
            "image/png": "[encoded data removed]"
          },
          "metadata": {}
        },
        {
          "output_type": "display_data",
          "data": {
            "text/plain": [
              "<Figure size 640x480 with 1 Axes>"
            ],
            "image/png": "[encoded data removed]"
          },
          "metadata": {}
        }
      ]
    },
    {
      "cell_type": "code",
      "source": [
        "preds = model.predict(test_data)\n",
        "preds"
      ],
      "metadata": {
        "colab": {
          "base_uri": "https://localhost:8080/"
        },
        "id": "BmkjOkZqFYo5",
        "outputId": "8dbb7b95-04ef-46d0-c041-9c3c444b43ae"
      },
      "execution_count": 57,
      "outputs": [
        {
          "output_type": "stream",
          "name": "stdout",
          "text": [
            "63/63 [==============================] - 26s 413ms/step\n"
          ]
        },
        {
          "output_type": "execute_result",
          "data": {
            "text/plain": [
              "array([[0.00173424, 0.9982658 ],\n",
              "       [0.5489343 , 0.45106578],\n",
              "       [0.40814003, 0.59186   ],\n",
              "       ...,\n",
              "       [0.01398843, 0.98601156],\n",
              "       [0.01162104, 0.9883789 ],\n",
              "       [0.03239395, 0.967606  ]], dtype=float32)"
            ]
          },
          "metadata": {},
          "execution_count": 57
        }
      ]
    },
    {
      "cell_type": "code",
      "source": [
        "def preprocess_img_to_classname(model, filename, IMG_SHAPE=IMG_SIZE):\n",
        "  '''\n",
        "    This function decodes the images into tensors, resizes, rescales and\n",
        "    get's the highest probablity from the tensor and that index will be matched\n",
        "    with the className's index and that className is shown as prediction. Enter\n",
        "    model_name, image_name and default img_shape=224.\n",
        "  '''\n",
        "\n",
        "  # Read image\n",
        "  image = tf.io.read_file(filename)\n",
        "\n",
        "  # Decode into tensors\n",
        "  image = tf.image.decode_image(image)\n",
        "\n",
        "  # Resize\n",
        "  image = tf.image.resize(image, size=IMG_SIZE)\n",
        "\n",
        "  # Rescale\n",
        "  image = image/255.\n",
        "\n",
        "  # Expanding dims\n",
        "  image = tf.expand_dims(image, axis=0)\n",
        "\n",
        "  # Prediction\n",
        "  preds = model.predict(image)\n",
        "\n",
        "  # ClassName\n",
        "  name = class_names[tf.argmax(preds[0])]\n",
        "  return name"
      ],
      "metadata": {
        "id": "dgv3rj6eFxR5"
      },
      "execution_count": 58,
      "outputs": []
    },
    {
      "cell_type": "code",
      "source": [
        "# Making a Prediction on an Uninfected Cell image.\n",
        "\n",
        "preprocess_img_to_classname(model, '/content/cell_images/cell_images/Uninfected/C100P61ThinF_IMG_20150918_144823_cell_34.png')"
      ],
      "metadata": {
        "colab": {
          "base_uri": "https://localhost:8080/",
          "height": 53
        },
        "id": "yRnG5TEIF_yq",
        "outputId": "67aaeefd-421d-42c6-fb91-3d6e921dcb09"
      },
      "execution_count": 59,
      "outputs": [
        {
          "output_type": "stream",
          "name": "stdout",
          "text": [
            "1/1 [==============================] - 0s 159ms/step\n"
          ]
        },
        {
          "output_type": "execute_result",
          "data": {
            "text/plain": [
              "'Uninfected'"
            ],
            "application/vnd.google.colaboratory.intrinsic+json": {
              "type": "string"
            }
          },
          "metadata": {},
          "execution_count": 59
        }
      ]
    },
    {
      "cell_type": "code",
      "source": [
        "# Saving the model\n",
        "\n",
        "model.save('model_vgg19.h5')"
      ],
      "metadata": {
        "id": "5DerEEEYD8qC"
      },
      "execution_count": 60,
      "outputs": []
    },
    {
      "cell_type": "code",
      "source": [],
      "metadata": {
        "id": "WoeR8ojHLkaV"
      },
      "execution_count": null,
      "outputs": []
    }
  ]
}